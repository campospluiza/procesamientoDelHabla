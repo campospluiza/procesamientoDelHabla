{
  "nbformat": 4,
  "nbformat_minor": 0,
  "metadata": {
    "colab": {
      "provenance": [],
      "include_colab_link": true
    },
    "kernelspec": {
      "name": "python3",
      "display_name": "Python 3"
    },
    "language_info": {
      "name": "python"
    }
  },
  "cells": [
    {
      "cell_type": "markdown",
      "metadata": {
        "id": "view-in-github",
        "colab_type": "text"
      },
      "source": [
        "<a href=\"https://colab.research.google.com/github/campospluiza/procesamientoDelHabla/blob/main/Campos_Desafio_Regresi%C3%B3n_1.ipynb\" target=\"_parent\"><img src=\"https://colab.research.google.com/assets/colab-badge.svg\" alt=\"Open In Colab\"/></a>"
      ]
    },
    {
      "cell_type": "markdown",
      "source": [
        "# INDICACIONES\n",
        "\n",
        "1) Cada uno debe completar las consignas indicadas en este notebook.\n",
        "\n",
        "2) Deben postear como solución enlace a su notebook colab público y también debe estar en su repositorio GitHub.\n",
        "\n",
        "3) No pueden repetir el mismo dataset que ya haya definido un compañero.\n",
        "\n",
        "4) copias explícitas de secciones enteras del trabajo de otro será penalizado disminuyendo su puntuación.\n",
        "\n",
        "5) No se olvide de añadir las fuentes de inspiración de su código (blogs, prompts de chatgpt o similar).\n",
        "\n",
        "6) Además de todo el código que agregue, es importante que sepa interpretarlo. Agregue texto explicativo en cada sección. Esto le ayudará al momento del coloquio / parcial\n",
        "\n",
        "7) Revise las fecha límite de entrega de este trabajo"
      ],
      "metadata": {
        "id": "BSeucmV-KLmJ"
      }
    },
    {
      "cell_type": "markdown",
      "source": [
        "# Dataset\n",
        "\n",
        "Genere un dataset sintético con al menos 4 variables y una variable continua para usarlo luego en regresión.\n",
        "\n"
      ],
      "metadata": {
        "id": "PA_K-G-ztGNZ"
      }
    },
    {
      "cell_type": "code",
      "source": [
        "#primero importo las librerías a utilizar\n",
        "import pandas as pd\n",
        "import numpy as np\n",
        "import matplotlib.pyplot as plt\n",
        "import seaborn as sns\n",
        "from sklearn.datasets import make_regression\n",
        "from sklearn.model_selection import train_test_split\n",
        "from sklearn.linear_model import LinearRegression\n",
        "from sklearn.metrics import mean_squared_error, r2_score"
      ],
      "metadata": {
        "id": "P7p0d4m21nCk"
      },
      "execution_count": 1,
      "outputs": []
    },
    {
      "cell_type": "code",
      "source": [
        "# Configuración de los parámetros para el dataset\n",
        "n_samples = 200   # Número de muestras\n",
        "n_features = 4    # Número de variables explicativas\n",
        "noise = 10.0      # Nivel de ruido en los datos\n",
        "\n",
        "# Generación del dataset sintético\n",
        "X, y = make_regression(n_samples=n_samples, n_features=n_features, noise=noise, random_state=42)\n",
        "\n",
        "# Convertir a un DataFrame para facilitar su manejo\n",
        "column_names = ['Feature1', 'Feature2', 'Feature3', 'Feature4']\n",
        "df = pd.DataFrame(X, columns=column_names)\n",
        "df['Target'] = y\n",
        "\n",
        "# Visualizar las primeras filas del dataset\n",
        "print(df.head())"
      ],
      "metadata": {
        "id": "uddO_IbetVys",
        "colab": {
          "base_uri": "https://localhost:8080/"
        },
        "outputId": "b3513221-d399-42a6-8ba4-81c17b4e9081"
      },
      "execution_count": 2,
      "outputs": [
        {
          "output_type": "stream",
          "name": "stdout",
          "text": [
            "   Feature1  Feature2  Feature3  Feature4      Target\n",
            "0  1.676437  0.018418 -1.870792 -0.351513   -4.060738\n",
            "1 -0.777817 -1.407512 -0.342688 -0.371441  -84.905784\n",
            "2  1.014370  1.665474  0.256030  0.982691  154.064414\n",
            "3  0.743264 -1.348185  0.307802 -1.710168  -92.643277\n",
            "4  0.029756  0.028318 -0.039555  0.681501   50.638141\n"
          ]
        }
      ]
    },
    {
      "cell_type": "markdown",
      "source": [
        "Describa como generó los datos.\n",
        "\n",
        "El dataset sintético fue generado utilizando la función make_regression de la biblioteca scikit-learn, que es una herramienta común para crear conjuntos de datos de prueba en tareas de aprendizaje supervisado.\n",
        "fuente: https://scikit-learn.org/stable/modules/generated/sklearn.datasets.make_regression.html#sklearn.datasets.make_regression"
      ],
      "metadata": {
        "id": "QZ6peniZtXJF"
      }
    },
    {
      "cell_type": "markdown",
      "source": [
        "## Preprocesamiento\n",
        "\n",
        "Indique e implemente el pre-procesamiento necesario previo a entrenar los modelos"
      ],
      "metadata": {
        "id": "JBsmkKcXtaUH"
      }
    },
    {
      "cell_type": "code",
      "source": [
        "from sklearn.preprocessing import StandardScaler\n",
        "\n",
        "# Paso 1: Revisión de datos faltantes\n",
        "print(\"Valores faltantes por columna:\")\n",
        "print(df.isnull().sum())\n",
        "\n",
        "# Paso 2: Escalado de características\n",
        "# Separar las características (X) y la variable objetivo (y)\n",
        "X = df[['Feature1', 'Feature2', 'Feature3', 'Feature4']]\n",
        "y = df['Target']\n",
        "\n",
        "# Dividir los datos en conjuntos de entrenamiento y prueba (80% entrenamiento, 20% prueba)\n",
        "X_train, X_test, y_train, y_test = train_test_split(X, y, test_size=0.2, random_state=42)\n",
        "\n",
        "# Escalado de los datos usando StandardScaler\n",
        "scaler = StandardScaler()\n",
        "\n",
        "# Ajustar el escalador solo al conjunto de entrenamiento y transformar tanto el entrenamiento como el conjunto de prueba\n",
        "X_train_scaled = scaler.fit_transform(X_train)\n",
        "X_test_scaled = scaler.transform(X_test)\n",
        "\n",
        "# Verificar la forma de los datos escalados\n",
        "print(\"Forma del conjunto de entrenamiento escalado:\", X_train_scaled.shape)\n",
        "print(\"Forma del conjunto de prueba escalado:\", X_test_scaled.shape)"
      ],
      "metadata": {
        "id": "bIOAjddrth75",
        "colab": {
          "base_uri": "https://localhost:8080/"
        },
        "outputId": "fe7485ad-5e6a-49c0-9e98-eddf4bb302ad"
      },
      "execution_count": 3,
      "outputs": [
        {
          "output_type": "stream",
          "name": "stdout",
          "text": [
            "Valores faltantes por columna:\n",
            "Feature1    0\n",
            "Feature2    0\n",
            "Feature3    0\n",
            "Feature4    0\n",
            "Target      0\n",
            "dtype: int64\n",
            "Forma del conjunto de entrenamiento escalado: (160, 4)\n",
            "Forma del conjunto de prueba escalado: (40, 4)\n"
          ]
        }
      ]
    },
    {
      "cell_type": "markdown",
      "source": [
        "En la implementación de preprocesamiento, realicé los siguientes pasos y seleccioné StandardScaler por razones específicas que explico a continuación:\n",
        "\n",
        "1. Revisión de datos faltantes:\n",
        "\n",
        "Qué hice: Verifiqué si había valores faltantes en el DataFrame con df.isnull().sum().\n",
        "\n",
        "Por qué: Es importante asegurarse de que no haya valores faltantes antes de entrenar un modelo, ya que la presencia de datos nulos podría causar errores durante el entrenamiento o llevar a resultados sesgados. En caso de encontrar valores faltantes, habría implementado técnicas de imputación (como rellenar con la media, mediana o algún valor específico).\n",
        "\n",
        "2. Escalado de características:\n",
        "\n",
        "Qué hice: Utilicé StandardScaler para estandarizar las características del dataset, es decir, transformé las variables independientes para que tuvieran una media de 0 y una desviación estándar de 1.\n",
        "\n",
        "Por qué elegí StandardScaler:\n",
        "\n",
        "Consistencia en escalas: Muchas técnicas de machine learning (como la regresión lineal, SVM y redes neuronales) requieren que las características estén en la misma escala para que el modelo pueda aprender de manera óptima. Si las características tienen diferentes escalas, los modelos pueden comportarse de forma ineficaz, ya que los valores con mayores magnitudes tienden a dominar la función de costo.\n",
        "\n",
        "Estabilidad numérica: El escalado permite que los algoritmos de optimización (como el descenso de gradiente) converjan más rápidamente, evitando posibles inestabilidades numéricas.\n",
        "\n",
        "Uso común: StandardScaler es adecuado para datasets en los que se asume que las características siguen una distribución aproximadamente normal. Dado que el dataset generado es sintético y tiene un comportamiento relativamente bien distribuido (creado con make_regression), esta es una opción apropiada.\n",
        "\n",
        "3. División del dataset:\n",
        "\n",
        "Qué hice: Dividí el dataset en conjuntos de entrenamiento y prueba utilizando train_test_split con un 80% de los datos para el entrenamiento y el 20% para la evaluación.\n",
        "\n",
        "Por qué: La división en entrenamiento y prueba es fundamental para evaluar el rendimiento del modelo en datos no vistos y evitar el sobreajuste (overfitting), que ocurre cuando un modelo se ajusta demasiado a los datos de entrenamiento y pierde la capacidad de generalizar.\n",
        "\n",
        "Fuente: https://scikit-learn.org/stable/modules/generated/sklearn.preprocessing.StandardScaler.html#sklearn.preprocessing.StandardScaler\n",
        "\n",
        "Prompt en Chatgpt: Sos un revisor de trabajos practicos. Vas a explicar mi trabajo. Considerando que generé un random dataset sintetico utilizando \"make_regression\" y que, preprocesando los datos, revisé datos faltantes utilizando \"df.isnull().sum() seguido del escalado utilizando \"StandarScaler\" y, finalmente, dividi el dataset en conjunto de entrenamiento y prueba utilizando \"train_test\"split en 80% entrenamiento, 20% evaluación, explica utilizando lenguaje simple que hice y por qué."
      ],
      "metadata": {
        "id": "sn2bE4Ahtib7"
      }
    },
    {
      "cell_type": "markdown",
      "source": [
        "## Modelos"
      ],
      "metadata": {
        "id": "lWk1FojvthZ-"
      }
    },
    {
      "cell_type": "markdown",
      "source": [
        "Elija al menos dos modelos de regresión de los vistos en clases.\n",
        "Entrene dichos modelos.\n",
        "Detalle los hiperparámetros elegidos."
      ],
      "metadata": {
        "id": "fcWx12wStpQJ"
      }
    },
    {
      "cell_type": "code",
      "source": [
        "from sklearn.linear_model import LinearRegression, Ridge\n",
        "from sklearn.metrics import mean_squared_error, r2_score\n",
        "\n",
        "# Entrenamiento de la Regresión Lineal\n",
        "model_lr = LinearRegression()\n",
        "model_lr.fit(X_train_scaled, y_train)\n",
        "\n",
        "# Predicciones con la Regresión Lineal\n",
        "y_pred_lr = model_lr.predict(X_test_scaled)\n",
        "\n",
        "# Métricas de evaluación para la Regresión Lineal\n",
        "mse_lr = mean_squared_error(y_test, y_pred_lr)\n",
        "r2_lr = r2_score(y_test, y_pred_lr)\n",
        "\n",
        "print(\"Regresión Lineal:\")\n",
        "print(f\"Mean Squared Error (MSE): {mse_lr:.2f}\")\n",
        "print(f\"R^2 Score: {r2_lr:.2f}\\n\")\n",
        "\n",
        "# Entrenamiento de la Regresión Ridge\n",
        "model_ridge = Ridge(alpha=1.0)\n",
        "model_ridge.fit(X_train_scaled, y_train)\n",
        "\n",
        "# Predicciones con la Regresión Ridge\n",
        "y_pred_ridge = model_ridge.predict(X_test_scaled)\n",
        "\n",
        "# Métricas de evaluación para la Regresión Ridge\n",
        "mse_ridge = mean_squared_error(y_test, y_pred_ridge)\n",
        "r2_ridge = r2_score(y_test, y_pred_ridge)\n",
        "\n",
        "print(\"Regresión Ridge:\")\n",
        "print(f\"Mean Squared Error (MSE): {mse_ridge:.2f}\")\n",
        "print(f\"R^2 Score: {r2_ridge:.2f}\")\n"
      ],
      "metadata": {
        "id": "gasE2y2ttpaa",
        "colab": {
          "base_uri": "https://localhost:8080/"
        },
        "outputId": "4b9b53e8-19e2-4b78-d80f-620ca267237b"
      },
      "execution_count": 4,
      "outputs": [
        {
          "output_type": "stream",
          "name": "stdout",
          "text": [
            "Regresión Lineal:\n",
            "Mean Squared Error (MSE): 70.99\n",
            "R^2 Score: 0.99\n",
            "\n",
            "Regresión Ridge:\n",
            "Mean Squared Error (MSE): 68.88\n",
            "R^2 Score: 0.99\n"
          ]
        }
      ]
    },
    {
      "cell_type": "markdown",
      "source": [
        "Fuente: https://scikit-learn.org/stable/modules/linear_model.html"
      ],
      "metadata": {
        "id": "GS2CTbk47A4F"
      }
    },
    {
      "cell_type": "markdown",
      "source": [
        "## Evaluación"
      ],
      "metadata": {
        "id": "Sxmj7GNVt5Q3"
      }
    },
    {
      "cell_type": "markdown",
      "source": [
        "Evalue el desempeño de los modelos indicando las métricas, metodología y conjunto de datos utilizados."
      ],
      "metadata": {
        "id": "rrvjbghzt8CN"
      }
    },
    {
      "cell_type": "markdown",
      "source": [
        "Los resultados de los modelos de regresión se evaluaron usando las métricas de **Mean Squared Error (MSE)** y **R² Score**. A continuación, explico el desempeño y la metodología utilizada:\n",
        "\n",
        "### 1. **Conjunto de datos utilizado**:\n",
        "- Se usó un dataset sintético generado previamente con `make_regression`, que consta de 200 muestras y 4 características (variables independientes), junto con una variable objetivo continua.\n",
        "- Los datos se dividieron en un conjunto de entrenamiento (80%) y un conjunto de prueba (20%).\n",
        "\n",
        "### 2. **Metodología de evaluación**:\n",
        "- **Entrenamiento**: Se entrenaron dos modelos: una **regresión lineal (OLS)** y una **regresión Ridge** con un parámetro de regularización `alpha=1.0`.\n",
        "- **Evaluación**: Ambos modelos se evaluaron en el conjunto de prueba, que representa datos no vistos por los modelos durante el entrenamiento. Esto permite medir su capacidad de generalización.\n",
        "\n",
        "### 3. **Métricas de desempeño**:\n",
        "- **Mean Squared Error (MSE)**:\n",
        "  - Es una métrica que calcula el promedio de los errores al cuadrado entre las predicciones y los valores reales. Un MSE más bajo indica un mejor ajuste del modelo, ya que los errores de las predicciones son menores.\n",
        "  - Resultados:\n",
        "    - **Regresión Lineal**: MSE = 70.99\n",
        "    - **Regresión Ridge**: MSE = 68.88\n",
        "  - Ambos modelos tienen un MSE bajo, lo que sugiere un buen desempeño en el conjunto de prueba. La Regresión Ridge obtuvo un MSE ligeramente menor, lo que indica que la regularización contribuyó a un mejor ajuste.\n",
        "\n",
        "- **R² Score**:\n",
        "  - Indica la proporción de la varianza de la variable objetivo que es explicada por el modelo. Un valor de `R²` cercano a 1 significa que el modelo explica bien la variabilidad de los datos.\n",
        "  - Resultados:\n",
        "    - **Regresión Lineal**: R² = 0.99\n",
        "    - **Regresión Ridge**: R² = 0.99\n",
        "  - Ambos modelos tienen un `R²` muy alto, lo que sugiere que la mayoría de la variación en la variable objetivo se explica por las características incluidas en el modelo.\n",
        "\n",
        "### 4. **Análisis del desempeño**:\n",
        "- **Regresión Lineal**: Tiene un `R²` de 0.99 y un MSE de 70.99, lo que muestra que el modelo se ajusta muy bien a los datos de prueba. Sin embargo, al ser un modelo sin regularización, puede ser más susceptible al sobreajuste si el dataset real tiene ruido o multicolinealidad.\n",
        "- **Regresión Ridge**: También obtuvo un `R²` de 0.99, con un MSE de 68.88, que es ligeramente menor al de la regresión lineal. Esto sugiere que la regularización L2 ayudó a controlar posibles influencias de características redundantes o ruido, mejorando la estabilidad y generalización del modelo.\n",
        "\n",
        "### **Conclusión**:\n",
        "Ambos modelos muestran un rendimiento muy alto en términos de `R²` y un MSE bajo, indicando que tienen un buen ajuste. La **Regresión Ridge** tuvo un rendimiento ligeramente mejor en términos de MSE, lo que muestra que la regularización aportó un pequeño beneficio en la generalización del modelo, reduciendo el riesgo de sobreajuste. En un contexto de aplicación real, la Regresión Ridge podría ser preferida por su capacidad de manejar mejor los datos con colinealidad o ruido.\n",
        "\n",
        "Fuente: https://scikit-learn.org/stable/modules/model_evaluation.html"
      ],
      "metadata": {
        "id": "dzxDBMeI7inQ"
      }
    },
    {
      "cell_type": "markdown",
      "source": [
        "\n",
        "## Ejercicio de hiper parámetro tunning.\n",
        "\n",
        "Modificar uno de los modelos para probarlo con diferentes valores para uno de sus hiperparámetros, indicando para cuáles se evidencia subajuste y en cuáles sobreajuste.\n",
        "\n",
        "Grafique la métrica de desempeño vs los valores del hiperarámetro para observar ambas curvas de error durante el entrenamiento y durante el testeo.\n",
        "\n",
        "\n"
      ],
      "metadata": {
        "id": "ec3tJxLJtVFL"
      }
    },
    {
      "cell_type": "markdown",
      "source": [
        "Para evaluar cómo la variación de un hiperparámetro afecta el rendimiento del modelo y detectar subajuste o sobreajuste, voy a usar la Regresión Ridge y variar el hiperparámetro alpha. Este parámetro controla la penalización en la regularización L2:\n",
        "\n",
        "Valores bajos de alpha: Hacen que el modelo se parezca más a la regresión lineal simple, con menor penalización y mayor posibilidad de sobreajuste.\n",
        "\n",
        "Valores altos de alpha: Aumentan la regularización, simplificando el modelo, lo que puede llevar a un subajuste.\n",
        "1. Proceso de prueba:\n",
        "Voy a probar la Regresión Ridge con diferentes valores de alpha y evaluar el MSE tanto en el conjunto de entrenamiento como en el de prueba para observar el comportamiento del modelo. Luego, graficaré la métrica de desempeño (MSE) frente a los valores de alpha."
      ],
      "metadata": {
        "id": "WKoP_C5dunUB"
      }
    },
    {
      "cell_type": "code",
      "source": [
        "import numpy as np\n",
        "import matplotlib.pyplot as plt\n",
        "from sklearn.linear_model import Ridge\n",
        "from sklearn.metrics import mean_squared_error\n",
        "\n",
        "# Valores de alpha a probar\n",
        "alphas = np.logspace(-3, 3, 50)\n",
        "\n",
        "# Listas para almacenar los errores\n",
        "mse_train = []\n",
        "mse_test = []\n",
        "\n",
        "# Iterar sobre los valores de alpha\n",
        "for alpha in alphas:\n",
        "    model_ridge = Ridge(alpha=alpha)\n",
        "    model_ridge.fit(X_train_scaled, y_train)\n",
        "\n",
        "    # Calcular el MSE en el conjunto de entrenamiento\n",
        "    y_train_pred = model_ridge.predict(X_train_scaled)\n",
        "    mse_train.append(mean_squared_error(y_train, y_train_pred))\n",
        "\n",
        "    # Calcular el MSE en el conjunto de prueba\n",
        "    y_test_pred = model_ridge.predict(X_test_scaled)\n",
        "    mse_test.append(mean_squared_error(y_test, y_test_pred))\n",
        "\n",
        "# Graficar los resultados\n",
        "plt.figure(figsize=(12, 6))\n",
        "plt.plot(alphas, mse_train, label='Error de Entrenamiento', marker='o')\n",
        "plt.plot(alphas, mse_test, label='Error de Prueba', marker='s')\n",
        "plt.xscale('log')\n",
        "plt.xlabel('Alpha (escala logarítmica)')\n",
        "plt.ylabel('Mean Squared Error (MSE)')\n",
        "plt.title('MSE vs Alpha en la Regresión Ridge')\n",
        "plt.legend()\n",
        "plt.grid(True)\n",
        "plt.show()\n"
      ],
      "metadata": {
        "id": "U4ACQYhrunek",
        "colab": {
          "base_uri": "https://localhost:8080/",
          "height": 570
        },
        "outputId": "5c2bd471-7ebb-4c8d-8c50-ee51f3fb8919"
      },
      "execution_count": 5,
      "outputs": [
        {
          "output_type": "display_data",
          "data": {
            "text/plain": [
              "<Figure size 1200x600 with 1 Axes>"
            ],
            "image/png": "[encoded data removed]"
          },
          "metadata": {}
        }
      ]
    },
    {
      "cell_type": "markdown",
      "source": [
        "El gráfico generado muestra el Mean Squared Error (MSE) en el eje y y los valores de alpha en el eje x en escala logarítmica, tanto para el conjunto de entrenamiento como para el conjunto de prueba.\n",
        "\n",
        "Análisis de los Resultados:\n",
        "\n",
        "Región de Subajuste:\n",
        "\n",
        "A medida que los valores de alpha son muy altos, el MSE aumenta tanto en el conjunto de entrenamiento como en el de prueba. Esto sugiere que el modelo está demasiado regularizado, lo que lleva a un subajuste, es decir, el modelo es demasiado simple y no captura bien las relaciones en los datos.\n",
        "\n",
        "Región de Buen Ajuste:\n",
        "\n",
        "Para valores intermedios de alpha, el MSE es bajo tanto en el conjunto de entrenamiento como en el de prueba. Esto indica un buen equilibrio entre sesgo y varianza, donde el modelo generaliza bien sin sobreajustarse ni subajustarse. Esta es la región donde el modelo tiene el mejor rendimiento.\n",
        "\n",
        "Región de Sobreajuste:\n",
        "\n",
        "Cuando los valores de alpha son muy bajos, el MSE del conjunto de entrenamiento es muy bajo, mientras que el MSE en el conjunto de prueba permanece bajo pero ligeramente más alto. Esto puede ser indicativo de un inicio de sobreajuste, donde el modelo comienza a aprender detalles específicos del conjunto de entrenamiento que no generalizan bien al conjunto de prueba.\n",
        "\n",
        "Interpretación General:\n",
        "Curva en U: Las curvas de error en el conjunto de entrenamiento y prueba siguen un patrón en forma de U. Esto es típico en modelos donde se ajusta un hiperparámetro que controla la complejidad del modelo, como alpha en la Regresión Ridge.\n",
        "\n",
        "Conclusión:\n",
        "Subajuste ocurre para valores muy altos de alpha debido a la alta penalización en la regularización.\n",
        "\n",
        "Sobreajuste comienza a aparecer para valores muy bajos de alpha donde el modelo es más flexible y ajusta excesivamente los datos de entrenamiento.\n",
        "\n",
        "El mejor rendimiento se encuentra en un rango intermedio de alpha donde el MSE es bajo y consistente en ambos conjuntos, indicando que el modelo generaliza bien.\n",
        "\n",
        "Este análisis ayuda a identificar el valor óptimo de alpha que minimiza el MSE de prueba sin incurrir en subajuste ni sobreajuste, maximizando así la capacidad de generalización del modelo."
      ],
      "metadata": {
        "id": "EvddXm3W8smO"
      }
    }
  ]
}