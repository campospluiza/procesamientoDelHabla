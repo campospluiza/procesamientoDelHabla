{
  "nbformat": 4,
  "nbformat_minor": 0,
  "metadata": {
    "colab": {
      "provenance": [],
      "authorship_tag": "ABX9TyOph2K5KpOHcPtQxwR0A/UO",
      "include_colab_link": true
    },
    "kernelspec": {
      "name": "python3",
      "display_name": "Python 3"
    },
    "language_info": {
      "name": "python"
    }
  },
  "cells": [
    {
      "cell_type": "markdown",
      "metadata": {
        "id": "view-in-github",
        "colab_type": "text"
      },
      "source": [
        "<a href=\"https://colab.research.google.com/github/campospluiza/procesamientoDelHabla/blob/main/Campos_Desafio3.ipynb\" target=\"_parent\"><img src=\"https://colab.research.google.com/assets/colab-badge.svg\" alt=\"Open In Colab\"/></a>"
      ]
    },
    {
      "cell_type": "markdown",
      "source": [
        "1. Vectorizar documentos. Tomar 5 documentos al azar y medir similaridad con el resto de los documentos. Estudiar los 5 documentos más similares de cada uno analizar si tiene sentido la similaridad según el contenido del texto y la etiqueta de clasificación.\n",
        "\n"
      ],
      "metadata": {
        "id": "4LBob8ZCvJRu"
      }
    },
    {
      "cell_type": "code",
      "execution_count": 1,
      "metadata": {
        "id": "5u9tISW1tGob"
      },
      "outputs": [],
      "source": [
        "import random\n",
        "from sklearn.datasets import fetch_20newsgroups\n",
        "from sklearn.feature_extraction.text import TfidfVectorizer\n",
        "from sklearn.metrics.pairwise import cosine_similarity\n",
        "import numpy as np"
      ]
    },
    {
      "cell_type": "code",
      "source": [
        "# Cargar los datos (sin encabezados, pies de página o citas)\n",
        "newsgroups = fetch_20newsgroups(subset='train', remove=('headers', 'footers', 'quotes'))"
      ],
      "metadata": {
        "id": "FrqIcYkQufhL"
      },
      "execution_count": 2,
      "outputs": []
    },
    {
      "cell_type": "code",
      "source": [
        "# Instanciar el vectorizador\n",
        "tfidfvect = TfidfVectorizer()"
      ],
      "metadata": {
        "id": "PSOBJW4Uutpb"
      },
      "execution_count": 3,
      "outputs": []
    },
    {
      "cell_type": "code",
      "source": [
        "# Vectorizar los documentos\n",
        "X_train = tfidfvect.fit_transform(newsgroups.data)"
      ],
      "metadata": {
        "id": "v0VRmcJtu0_Z"
      },
      "execution_count": 4,
      "outputs": []
    },
    {
      "cell_type": "code",
      "source": [
        "# Tomar 5 documentos al azar\n",
        "random_indices = random.sample(range(len(newsgroups.data)), 5)\n",
        "selected_docs = [newsgroups.data[i] for i in random_indices]\n",
        "selected_labels = [newsgroups.target[i] for i in random_indices]\n",
        "\n",
        "print(\"Documentos seleccionados y sus etiquetas:\")\n",
        "for idx in random_indices:\n",
        "    print(f\"\\nÍndice: {idx}\")\n",
        "    print(f\"Texto: {newsgroups.data[idx][:300]}...\")  # Muestra solo los primeros 300 caracteres\n",
        "    print(f\"Etiqueta: {newsgroups.target[idx]} - {newsgroups.target_names[newsgroups.target[idx]]}\")"
      ],
      "metadata": {
        "colab": {
          "base_uri": "https://localhost:8080/"
        },
        "id": "ZCqjrPbHu3pD",
        "outputId": "5dc6f40b-f299-4aeb-b6f6-300fcc173d4f"
      },
      "execution_count": 5,
      "outputs": [
        {
          "output_type": "stream",
          "name": "stdout",
          "text": [
            "Documentos seleccionados y sus etiquetas:\n",
            "\n",
            "Índice: 5965\n",
            "Texto: It is model number #7033D, a 14\" interlaced .28dp.  BTW, if you have a\n",
            "number to contact the company, that would really be helpful to.  Thanks\n",
            "for replying.  I was beginning to believe that I was never going to get\n",
            "a reply.  I posted this on the netnews bboard because the first message\n",
            "I sent to you...\n",
            "Etiqueta: 3 - comp.sys.ibm.pc.hardware\n",
            "\n",
            "Índice: 10457\n",
            "Texto: If you are interested in receiving the final player stats for\n",
            "the 1992-1993 NHL Season as well as playoff box scores, stats and\n",
            "scores/updates...\n",
            "then e-mail my stat server\n",
            "\n",
            "mmilitzo@skidmore.edu...\n",
            "Etiqueta: 10 - rec.sport.hockey\n",
            "\n",
            "Índice: 8926\n",
            "Texto:  >With that in mind...\n",
            "\n",
            "I just recently purchased the GCC BLP Elite and I really like it.  My\n",
            "needs\n",
            "are much the same as what you describe.  In addition, I wanted to get one\n",
            "that\n",
            "I could access via AppleTalk, so that eliminated the new line of\n",
            "inexpensive \n",
            "printers from Apple.  The print quality is ...\n",
            "Etiqueta: 4 - comp.sys.mac.hardware\n",
            "\n",
            "Índice: 10494\n",
            "Texto: I have a Macc IIci and a Color scanner.\n",
            "I scanned a picture at 600 dpi. When I try to print\n",
            "it on my HP500 color printer, after 10 minutes of\n",
            "making noise, the mac hangs. I would need to reboot it.\n",
            "What does this mean? Do I need to buy more memory? I have\n",
            "5.0 MB now. I also have about 50 MB of disk ...\n",
            "Etiqueta: 4 - comp.sys.mac.hardware\n",
            "\n",
            "Índice: 5806\n",
            "Texto: Two-part question:\n",
            "\n",
            "1)  What is Windows NT - a 'real' windows OS?\n",
            "\n",
            "2)  This past weekend, a local 'hacker' radio show metioned a new product\n",
            "    from Microsoft called 'Chicago' if I recall.  Anyone know what this is?\n",
            "\n",
            "That is it -\n",
            "\n",
            "Thanks a heap.\n",
            "\n",
            "- Alan\n",
            "...\n",
            "Etiqueta: 2 - comp.os.ms-windows.misc\n"
          ]
        }
      ]
    },
    {
      "cell_type": "code",
      "source": [
        "# Medir la similaridad coseno con todos los documentos\n",
        "similarities = cosine_similarity(X_train[random_indices], X_train)"
      ],
      "metadata": {
        "id": "k2HoTkbFu-Hd"
      },
      "execution_count": 6,
      "outputs": []
    },
    {
      "cell_type": "code",
      "source": [
        "# Analizar los 5 documentos más similares para cada documento seleccionado\n",
        "for i, idx in enumerate(random_indices):\n",
        "    print(f\"\\nDocumentos más similares para el documento con índice {idx}:\")\n",
        "\n",
        "    # Obtener las similaridades y sus índices\n",
        "    most_similar_indices = np.argsort(similarities[i])[::-1][1:6]  # Excluyendo el documento en sí\n",
        "\n",
        "    for sim_idx in most_similar_indices:\n",
        "        print(f\"Índice similar: {sim_idx}\")\n",
        "        print(f\"Texto similar: {newsgroups.data[sim_idx][:300]}...\")  # Muestra solo los primeros 300 caracteres\n",
        "        print(f\"Etiqueta: {newsgroups.target[sim_idx]} - {newsgroups.target_names[newsgroups.target[sim_idx]]}\")"
      ],
      "metadata": {
        "colab": {
          "base_uri": "https://localhost:8080/"
        },
        "id": "K30-EHs6vCqm",
        "outputId": "86047e12-9036-4a48-c495-addbfa346e96"
      },
      "execution_count": 7,
      "outputs": [
        {
          "output_type": "stream",
          "name": "stdout",
          "text": [
            "\n",
            "Documentos más similares para el documento con índice 5965:\n",
            "Índice similar: 9623\n",
            "Texto similar: Accounts of Anti-Armenian Human Right Violations in Azerbaijan #012\n",
            "                 Prelude to Current Events in Nagorno-Karabakh\n",
            "\n",
            "        +---------------------------------------------------------+\n",
            "        |                                                         |\n",
            "        |  I saw a naked girl wi...\n",
            "Etiqueta: 17 - talk.politics.mideast\n",
            "Índice similar: 6894\n",
            "Texto similar: Here is a press release from the White House.\n",
            "\n",
            " President Clinton's Remarks On Waco With Q/A\n",
            " To: National Desk\n",
            " Contact: White House Office of the Press Secretary, 202-456-2100\n",
            "\n",
            "   WASHINGTON, April 20 -- Following are remarks by President \n",
            "Clinton in a question and answer session with the press:\n",
            "\n",
            "...\n",
            "Etiqueta: 16 - talk.politics.guns\n",
            "Índice similar: 1332\n",
            "Texto similar:   That was the entire point to *you*.  What exactly did I claim?\n",
            "     --------------------------------------------------\n",
            "    \"I've heard eye-witness descriptions of tanks using their main guns\n",
            "  to respond to sniper fire.  Quite effectively.\"\n",
            "     --------------------------------------------------\n",
            " ...\n",
            "Etiqueta: 16 - talk.politics.guns\n",
            "Índice similar: 3166\n",
            "Texto similar: My news feed is broken and I haven't received any new news in 243 hours\n",
            "(more than 10 days).  So, if you reply to this, please send private\n",
            "email to the address esther@demand.ed.ray.com -- I have set the\n",
            "Reply-To line to have that address but I don't know if it will work.\n",
            "\n",
            "[It depends upon the softw...\n",
            "Etiqueta: 15 - soc.religion.christian\n",
            "Índice similar: 1191\n",
            "Texto similar: THE WHITE HOUSE\n",
            "\n",
            "                  Office of the Press Secretary\n",
            "                  (Vancouver, British Columbia)\n",
            "_________________________________________________________________\n",
            "For Immediate Release                               April 4, 1993\n",
            "\n",
            "\t     \n",
            "                PRESS CONFERENCE BY THE PRESIDE...\n",
            "Etiqueta: 18 - talk.politics.misc\n",
            "\n",
            "Documentos más similares para el documento con índice 10457:\n",
            "Índice similar: 4107\n",
            "Texto similar: For updated playoff updates (scores, stats, summaries)\n",
            "e-mail me. (mmilitzo@skidmore.edu) with the subject STATS.\n",
            "...\n",
            "Etiqueta: 10 - rec.sport.hockey\n",
            "Índice similar: 5229\n",
            "Texto similar: Hello, my friends and I are running the Homewood Fantasy Baseball\n",
            "League (pure fantasy baseball teams). Unfortunely, we are running the league\n",
            "using Earl Weaver Baseball II with the Comm. Disk II and we need the stats\n",
            "for the 1992 season. (Preferably the 1992 Major League Stat Disk) We have\n",
            "the '92 ...\n",
            "Etiqueta: 9 - rec.sport.baseball\n",
            "Índice similar: 6643\n",
            "Texto similar: Does anybody else think that WS stats should become part of\n",
            "a player's career stats?   Why not?\n",
            " \n",
            "...\n",
            "Etiqueta: 9 - rec.sport.baseball\n",
            "Índice similar: 9386\n",
            "Texto similar: I'm the keeper of the stats for a family hockey pool and I'm looking\n",
            "for daily/weekly email servers for playoff stats.  I've connected with\n",
            "the servers at J.Militzok@skidmore.EDU and wilson@cs.ucf.edu.  I'm\n",
            "still sorting these two out.\n",
            "\n",
            "Are there others?  Email please as my site doesn't get this gro...\n",
            "Etiqueta: 10 - rec.sport.hockey\n",
            "Índice similar: 9031\n",
            "Texto similar: } >} [Stuff about upated inning scores deleted.]\n",
            "} >at just that exact time to see the message. even results after the game\n",
            "} >is over are not necessary, thanks to Mr. Hernandez who posts daily\n",
            "} >standings and results here every day.\n",
            "} \n",
            "} Am I supposed to take that as a compliment or a put down? Ju...\n",
            "Etiqueta: 9 - rec.sport.baseball\n",
            "\n",
            "Documentos más similares para el documento con índice 8926:\n",
            "Índice similar: 3081\n",
            "Texto similar: \n",
            "An added advantate of waiting for the DayStar for the SE/30 is that,\n",
            "just as with the '030 power cache, the '040 accelerator will plug into\n",
            "the CPU socket, leaving the PDS slot free for a video card or ethernet\n",
            "card.  With DayStar's upgrade path, it's a no lose situation.\n",
            "\n",
            "-------------------------...\n",
            "Etiqueta: 4 - comp.sys.mac.hardware\n",
            "Índice similar: 5233\n",
            "Texto similar: \n",
            "The DayStar PowerCache for the SE/30 replaces the CPU with an accelerated\n",
            "CPU plus the powercache.  This leavese the PDS slot open for a video card.\n",
            "Currenty, DayStar does not have the '040 in this configuration, but it is\n",
            "due out early next year.  With their upgrade policy, you can get the '030\n",
            "ac...\n",
            "Etiqueta: 4 - comp.sys.mac.hardware\n",
            "Índice similar: 4271\n",
            "Texto similar: THE WHITE HOUSE\n",
            "\n",
            "                    Office of the Press Secretary\n",
            "______________________________________________________________\n",
            "For Immediate Release                             April 13, 1993     \n",
            "\n",
            "\t     \n",
            "                      REMARKS BY THE PRESIDENT,\n",
            "               SECRETARY OF EDUCATION RICHAR...\n",
            "Etiqueta: 18 - talk.politics.misc\n",
            "Índice similar: 3596\n",
            "Texto similar: THE WHITE HOUSE\n",
            "\n",
            "                    Office of the Press Secretary\n",
            "_________________________________________________________________\n",
            "For Immediate Release                             April 14, 1993     \n",
            "\n",
            "\t     \n",
            "                       REMARKS BY THE PRESIDENT\n",
            "                      AT SUMMER JOBS CONF...\n",
            "Etiqueta: 18 - talk.politics.misc\n",
            "Índice similar: 6635\n",
            "Texto similar: THE WHITE HOUSE\n",
            "\n",
            "                    Office of the Press Secretary\n",
            "______________________________________________________________\n",
            "For Immediate Release                             April 15, 1993     \n",
            "\n",
            "\t     \n",
            "                       REMARKS BY THE PRESIDENT\n",
            "                   TO LAW ENFORCEMENT ORGANI...\n",
            "Etiqueta: 18 - talk.politics.misc\n",
            "\n",
            "Documentos más similares para el documento con índice 10494:\n",
            "Índice similar: 6079\n",
            "Texto similar: Since the Quadra is the only Mac able to deal with 5MB/s and Hard drives START\n",
            "at 160MB I have NO idea.\n",
            "For the Mac I have the following {These are ALL external}\n",
            " 20MB $299 {$15/MB}\n",
            " 52MB $379 {$7.3/MB}\n",
            " 80MB $449 {$5.63/MB}\n",
            "120MB $569-$639 {$4.75-$5.33/MB\n",
            "210MB $979-$1029{$4.67-$4.90/MB}\n",
            "320MB $149...\n",
            "Etiqueta: 3 - comp.sys.ibm.pc.hardware\n",
            "Índice similar: 2642\n",
            "Texto similar: I want to achieve an overall throughput rate of around 5 megabytes / sec\n",
            "for very large data transfers.  (Around 5 MB.)\n",
            "\n",
            "I have a Quadra 950. \n",
            "I have a NuBus network card that can pump data in to mac memory at 8.5 MB/s.\n",
            "         (using block-mode transfers)\n",
            "I have a high-speed disk array (no asynchr...\n",
            "Etiqueta: 4 - comp.sys.mac.hardware\n",
            "Índice similar: 4945\n",
            "Texto similar: Could some kind soul please email ma a response since i don't have\n",
            "much time to read this group.\n",
            "\n",
            " Question: I have a 170 MB hard drive which currently has 10 MB left.\n",
            "How much space will DoubleSpace allow me to have?? I have a 486 50 w/ 4\n",
            "MB Ram if it matters.\n",
            "\n",
            "\n",
            "Thanks in advance\n",
            "\n",
            "Jason\n",
            "\n",
            "-- \n",
            " Jason...\n",
            "Etiqueta: 3 - comp.sys.ibm.pc.hardware\n",
            "Índice similar: 5179\n",
            "Texto similar: : >What does a 200-400 meg 5 megs/sec SCSI drive cost?\n",
            ": Since the Quadra is the only Mac able to deal with 5MB/s and Hard drives START\n",
            ": at 160MB I have NO idea.\n",
            ": For the Mac I have the following {These are ALL external}\n",
            ":  20MB $299 {$15/MB}\n",
            ":  52MB $379 {$7.3/MB}\n",
            ":  80MB $449 {$5.63/MB}\n",
            ": 120MB ...\n",
            "Etiqueta: 3 - comp.sys.ibm.pc.hardware\n",
            "Índice similar: 3288\n",
            "Texto similar: Fellow netters,\n",
            "\n",
            "I'm in the market for a hand scanner.  However, I don't know anyone who has\n",
            "one.  I have my eye on two choices.\n",
            "\n",
            "Dexxa:  This scanner is available at Wal-Mart for $90.  It includes GrayWorks\n",
            "software and provides 400 dpi and 32 grayscales (I think).  The OCR software\n",
            "Catchword is av...\n",
            "Etiqueta: 3 - comp.sys.ibm.pc.hardware\n",
            "\n",
            "Documentos más similares para el documento con índice 5806:\n",
            "Índice similar: 820\n",
            "Texto similar: This is the official Request for Discussion (RFD) for the creation of two\n",
            "new newsgroups for Microsoft Windows NT.  This is a second RFD, replacing\n",
            "the one originally posted in January '93 (and never taken to a vote).  The\n",
            "proposed groups are described below:\n",
            "\n",
            "NAME: \t comp.os.ms-windows.nt.setup\n",
            "STA...\n",
            "Etiqueta: 2 - comp.os.ms-windows.misc\n",
            "Índice similar: 9356\n",
            "Texto similar: Hi folks,\n",
            "]\n",
            "Does anybody know for a good 32-bit C++/C compiler for OS/2 that supports\n",
            "OS/2 API and Microsoft windows (maybe Windows NT)?\n",
            "\n",
            "thanx...\n",
            "Etiqueta: 5 - comp.windows.x\n",
            "Índice similar: 9313\n",
            "Texto similar: Has anyone used the Number Nine (# 9) Video Graphics adaptor with Windows\n",
            "or Windows NT?  What do you think???...\n",
            "Etiqueta: 2 - comp.os.ms-windows.misc\n",
            "Índice similar: 8355\n",
            "Texto similar: WINDOWS NT\n",
            "\n",
            "\n",
            "I need some information on the new Windows NT.\n",
            "Anything you have would be appreciated. I know nothing about it.\n",
            "(Well, except that it exists.)\n",
            "Some questions... \n",
            "\n",
            "Memory requirements, hard drive space, release date? is it out?\n",
            "How is IBM reacting? Intel?\n",
            "Can it replace other LAN OS's?\n",
            "\n",
            "...\n",
            "Etiqueta: 2 - comp.os.ms-windows.misc\n",
            "Índice similar: 6515\n",
            "Texto similar: hi,\n",
            "  Have you used Mac system 6.x or 7.x? If the answer is positive, you would\n",
            "know if ms-windows is a \"mature\" OS.\n",
            "\n",
            "  Days ago people doubted that ms-windows is not a real OS. I can see why\n",
            "they have such question. Ms-windows confuses many people. Microsoft\n",
            "simulated Mac, but it did a lousy job.  ...\n",
            "Etiqueta: 2 - comp.os.ms-windows.misc\n"
          ]
        }
      ]
    },
    {
      "cell_type": "markdown",
      "source": [
        "2. Entrenar modelos de clasificación Naïve Bayes para maximizar el desempeño de clasificación (f1-score macro) en el conjunto de datos de test. Considerar cambiar parámteros de instanciación del vectorizador y los modelos y probar modelos de Naïve Bayes Multinomial y ComplementNB."
      ],
      "metadata": {
        "id": "n7-t7jDKvL3T"
      }
    },
    {
      "cell_type": "code",
      "source": [
        "import numpy as np\n",
        "from sklearn.datasets import fetch_20newsgroups\n",
        "from sklearn.feature_extraction.text import TfidfVectorizer\n",
        "from sklearn.naive_bayes import MultinomialNB, ComplementNB\n",
        "from sklearn.metrics import f1_score\n",
        "from sklearn.model_selection import GridSearchCV"
      ],
      "metadata": {
        "id": "LLRoIZcdva27"
      },
      "execution_count": 8,
      "outputs": []
    },
    {
      "cell_type": "code",
      "source": [
        "# Cargar los datos (sin encabezados, pies de página o citas)\n",
        "newsgroups_train = fetch_20newsgroups(subset='train', remove=('headers', 'footers', 'quotes'))\n",
        "newsgroups_test = fetch_20newsgroups(subset='test', remove=('headers', 'footers', 'quotes'))"
      ],
      "metadata": {
        "id": "6hXIeacpvqba"
      },
      "execution_count": 10,
      "outputs": []
    },
    {
      "cell_type": "code",
      "source": [
        "# Instanciar el vectorizador con parámetros ajustados\n",
        "tfidfvect = TfidfVectorizer(max_df=0.95, min_df=2, stop_words='english')\n",
        "\n",
        "# Vectorizar los documentos\n",
        "X_train = tfidfvect.fit_transform(newsgroups_train.data)\n",
        "X_test = tfidfvect.transform(newsgroups_test.data)\n",
        "\n",
        "# Definir etiquetas\n",
        "y_train = newsgroups_train.target\n",
        "y_test = newsgroups_test.target"
      ],
      "metadata": {
        "id": "YBUesFu5vhnd"
      },
      "execution_count": 11,
      "outputs": []
    },
    {
      "cell_type": "code",
      "source": [
        "# Definir los modelos a probar\n",
        "models = {\n",
        "    'MultinomialNB': MultinomialNB(),\n",
        "    'ComplementNB': ComplementNB()\n",
        "}\n",
        "\n",
        "# Función para entrenar modelos y evaluar el F1-score\n",
        "def evaluate_models(models, X_train, y_train, X_test, y_test):\n",
        "    results = {}\n",
        "\n",
        "    for name, model in models.items():\n",
        "        model.fit(X_train, y_train)\n",
        "        y_pred = model.predict(X_test)\n",
        "        f1 = f1_score(y_test, y_pred, average='macro')\n",
        "        results[name] = f1\n",
        "        print(f'{name} F1-score (macro): {f1:.4f}')\n",
        "\n",
        "    return results\n",
        "\n",
        "# Evaluar los modelos\n",
        "f1_scores = evaluate_models(models, X_train, y_train, X_test, y_test)"
      ],
      "metadata": {
        "colab": {
          "base_uri": "https://localhost:8080/"
        },
        "id": "xkK4wA5CvuPn",
        "outputId": "7027dbc4-aeee-42a6-ce6c-ecab65801cb2"
      },
      "execution_count": 12,
      "outputs": [
        {
          "output_type": "stream",
          "name": "stdout",
          "text": [
            "MultinomialNB F1-score (macro): 0.6512\n",
            "ComplementNB F1-score (macro): 0.6943\n"
          ]
        }
      ]
    },
    {
      "cell_type": "code",
      "source": [
        "# Ajuste de hiperparámetros (Grid Search) para el modelo MultinomialNB\n",
        "param_grid = {\n",
        "    'alpha': [0.5, 1.0, 1.5, 2.0]  # Parámetro de suavizado\n",
        "}\n",
        "\n",
        "grid_search = GridSearchCV(MultinomialNB(), param_grid, scoring='f1_macro', cv=5)\n",
        "grid_search.fit(X_train, y_train)\n",
        "\n",
        "print(f\"\\nMejores parámetros para MultinomialNB: {grid_search.best_params_}\")\n",
        "print(f\"Mejor F1-score (macro) con ajuste: {grid_search.best_score_:.4f}\")\n"
      ],
      "metadata": {
        "colab": {
          "base_uri": "https://localhost:8080/"
        },
        "id": "9s4tckD8v2-q",
        "outputId": "e200fb63-d70a-48ff-efee-c57cf016dd51"
      },
      "execution_count": 13,
      "outputs": [
        {
          "output_type": "stream",
          "name": "stdout",
          "text": [
            "\n",
            "Mejores parámetros para MultinomialNB: {'alpha': 0.5}\n",
            "Mejor F1-score (macro) con ajuste: 0.7199\n"
          ]
        }
      ]
    },
    {
      "cell_type": "code",
      "source": [
        "# Evaluar el modelo con los mejores parámetros\n",
        "best_model = grid_search.best_estimator_\n",
        "y_pred_best = best_model.predict(X_test)\n",
        "f1_best = f1_score(y_test, y_pred_best, average='macro')\n",
        "print(f\"F1-score (macro) del mejor modelo en el conjunto de test: {f1_best:.4f}\")"
      ],
      "metadata": {
        "colab": {
          "base_uri": "https://localhost:8080/"
        },
        "id": "OzC0-D1mv8oe",
        "outputId": "2a1cc00f-3ceb-47b1-b41e-257c60ffa180"
      },
      "execution_count": 14,
      "outputs": [
        {
          "output_type": "stream",
          "name": "stdout",
          "text": [
            "F1-score (macro) del mejor modelo en el conjunto de test: 0.6626\n"
          ]
        }
      ]
    },
    {
      "cell_type": "markdown",
      "source": [
        "3. Transponer la matriz documento-término. De esa manera se obtiene una matriz término-documento que puede ser interpretada como una colección de vectorización de palabras. Estudiar ahora similaridad entre palabras tomando 5 palabras y estudiando sus 5 más similares. La elección de palabras no debe ser al azar para evitar la aparición de términos poco interpretables, elegirlas \"manualmente\"."
      ],
      "metadata": {
        "id": "vxbszZjDwJgZ"
      }
    },
    {
      "cell_type": "code",
      "source": [
        "import numpy as np\n",
        "from sklearn.datasets import fetch_20newsgroups\n",
        "from sklearn.feature_extraction.text import TfidfVectorizer\n",
        "from sklearn.metrics.pairwise import cosine_similarity"
      ],
      "metadata": {
        "id": "9ogc76UjwKcz"
      },
      "execution_count": 15,
      "outputs": []
    },
    {
      "cell_type": "code",
      "source": [
        "# Cargar los datos (sin encabezados, pies de página o citas)\n",
        "newsgroups = fetch_20newsgroups(subset='train', remove=('headers', 'footers', 'quotes'))\n",
        "\n",
        "# Instanciar el vectorizador\n",
        "tfidfvect = TfidfVectorizer(max_df=0.95, min_df=2, stop_words='english')\n",
        "\n",
        "# Vectorizar los documentos\n",
        "X_train = tfidfvect.fit_transform(newsgroups.data)\n",
        "\n",
        "# Transponer la matriz documento-término a matriz término-documento\n",
        "X_terms = X_train.T\n",
        "\n",
        "# Obtener el vocabulario (lista de palabras)\n",
        "idx2word = {v: k for k, v in tfidfvect.vocabulary_.items()}"
      ],
      "metadata": {
        "id": "_KhZNSAEwOCh"
      },
      "execution_count": 16,
      "outputs": []
    },
    {
      "cell_type": "code",
      "source": [
        "# Elegir 5 palabras de interés manualmente\n",
        "selected_words = ['computer', 'internet', 'data', 'science', 'research']\n",
        "\n",
        "# Crear una lista de índices correspondientes a las palabras elegidas\n",
        "selected_indices = [tfidfvect.vocabulary_.get(word) for word in selected_words]"
      ],
      "metadata": {
        "id": "xZY5ZK_NwT0e"
      },
      "execution_count": 17,
      "outputs": []
    },
    {
      "cell_type": "code",
      "source": [
        "# Verificar que todas las palabras están en el vocabulario\n",
        "if None in selected_indices:\n",
        "    missing_words = [word for word, idx in zip(selected_words, selected_indices) if idx is None]\n",
        "    print(f\"Las siguientes palabras no se encontraron en el vocabulario: {missing_words}\")\n",
        "else:\n",
        "    # Calcular la similaridad entre palabras\n",
        "    similarities = cosine_similarity(X_terms[selected_indices])\n",
        "\n",
        "    # Mostrar las similaridades\n",
        "    for i, word in enumerate(selected_words):\n",
        "        print(f\"\\nPalabra: '{word}' (Índice: {selected_indices[i]})\")\n",
        "        # Obtener los índices de las palabras más similares, excluyendo la misma palabra\n",
        "        most_similar_indices = np.argsort(similarities[i])[::-1][1:6]  # Excluyendo el propio\n",
        "        for sim_idx in most_similar_indices:\n",
        "            similar_word = idx2word[sim_idx]\n",
        "            print(f\"Palabra similar: '{similar_word}' (Índice: {sim_idx}), Similaridad: {similarities[i][sim_idx]:.4f}\")"
      ],
      "metadata": {
        "colab": {
          "base_uri": "https://localhost:8080/"
        },
        "id": "f1GrePavwc-Y",
        "outputId": "992a695d-89e3-4854-c18d-05ca36fed316"
      },
      "execution_count": 18,
      "outputs": [
        {
          "output_type": "stream",
          "name": "stdout",
          "text": [
            "\n",
            "Palabra: 'computer' (Índice: 9789)\n",
            "Palabra similar: '00000' (Índice: 3), Similaridad: 0.0940\n",
            "Palabra similar: '000' (Índice: 1), Similaridad: 0.0800\n",
            "Palabra similar: '0000' (Índice: 2), Similaridad: 0.0711\n",
            "Palabra similar: '00000000' (Índice: 4), Similaridad: 0.0298\n",
            "\n",
            "Palabra: 'internet' (Índice: 19254)\n",
            "Palabra similar: '00' (Índice: 0), Similaridad: 0.0800\n",
            "Palabra similar: '0000' (Índice: 2), Similaridad: 0.0686\n",
            "Palabra similar: '00000' (Índice: 3), Similaridad: 0.0594\n",
            "Palabra similar: '00000000' (Índice: 4), Similaridad: 0.0425\n",
            "\n",
            "Palabra: 'data' (Índice: 11213)\n",
            "Palabra similar: '00' (Índice: 0), Similaridad: 0.0711\n",
            "Palabra similar: '000' (Índice: 1), Similaridad: 0.0686\n",
            "Palabra similar: '00000000' (Índice: 4), Similaridad: 0.0573\n",
            "Palabra similar: '00000' (Índice: 3), Similaridad: 0.0555\n",
            "\n",
            "Palabra: 'science' (Índice: 31051)\n",
            "Palabra similar: '00000000' (Índice: 4), Similaridad: 0.0987\n",
            "Palabra similar: '00' (Índice: 0), Similaridad: 0.0940\n",
            "Palabra similar: '000' (Índice: 1), Similaridad: 0.0594\n",
            "Palabra similar: '0000' (Índice: 2), Similaridad: 0.0555\n",
            "\n",
            "Palabra: 'research' (Índice: 29750)\n",
            "Palabra similar: '00000' (Índice: 3), Similaridad: 0.0987\n",
            "Palabra similar: '0000' (Índice: 2), Similaridad: 0.0573\n",
            "Palabra similar: '000' (Índice: 1), Similaridad: 0.0425\n",
            "Palabra similar: '00' (Índice: 0), Similaridad: 0.0298\n"
          ]
        }
      ]
    }
  ]
}