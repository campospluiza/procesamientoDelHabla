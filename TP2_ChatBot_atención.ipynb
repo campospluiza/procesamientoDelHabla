{
  "nbformat": 4,
  "nbformat_minor": 0,
  "metadata": {
    "colab": {
      "provenance": [],
      "authorship_tag": "ABX9TyPTWOel+fs6Bm+LY9lb86mK",
      "include_colab_link": true
    },
    "kernelspec": {
      "name": "python3",
      "display_name": "Python 3"
    },
    "language_info": {
      "name": "python"
    }
  },
  "cells": [
    {
      "cell_type": "markdown",
      "metadata": {
        "id": "view-in-github",
        "colab_type": "text"
      },
      "source": [
        "<a href=\"https://colab.research.google.com/github/campospluiza/procesamientoDelHabla/blob/main/TP2_ChatBot_atenci%C3%B3n.ipynb\" target=\"_parent\"><img src=\"https://colab.research.google.com/assets/colab-badge.svg\" alt=\"Open In Colab\"/></a>"
      ]
    },
    {
      "cell_type": "markdown",
      "source": [
        "# Actividades\n",
        "\n",
        "1) Elaborar un dataset de preguntas y respuestas para crear un Chatbot para un aplicación particular.\n",
        "\n",
        "1.   Debe definir la aplicación (atención al cliente bancario, atención a estudiantes universitarios, etc).\n",
        "2.   El listado de preguntas y respuestas debe tener como mínimo 10 elementos.\n",
        "\n",
        "\n",
        "2) Crear el chatbot utilizando TFIDF y similitud del coseno.\n",
        "\n",
        "3) Crear otro chatbot utilizando embeddings. Indique cuál embedding pre-entrenado eligió.\n",
        "\n",
        "4) Muestra los chatbots funcionando\n",
        "\n",
        "5) No olvides:\n",
        "* Adjuntar la lista de preguntas utilizadas para probar el funcionamiento.\n",
        "* Anunciar en el foro cuál será tu aplicación.\n",
        "* Anunciar en el foro y postear tu entrega y tus avances.\n",
        "* Debes subir tu notebook a un repo GitHub público de tu propiedad compartido\n",
        "\n",
        "\n"
      ],
      "metadata": {
        "id": "_tLlLG8akEOT"
      }
    },
    {
      "cell_type": "markdown",
      "source": [
        "## Chatbot utilizando TFIDF y similitud del coseno"
      ],
      "metadata": {
        "id": "4l4xZ0nYqW_F"
      }
    },
    {
      "cell_type": "code",
      "execution_count": null,
      "metadata": {
        "id": "z9Ec093ojvyv"
      },
      "outputs": [],
      "source": [
        "#Primero importo las librerías necesárias\n",
        "import numpy as np\n",
        "import pandas as pd\n",
        "from sklearn.feature_extraction.text import TfidfVectorizer\n",
        "from sklearn.metrics.pairwise import cosine_similarity"
      ]
    },
    {
      "cell_type": "code",
      "source": [
        "#Creo el dataset de preguntas y respuestas usando como referencia el sitio https://issd.edu.ar\n",
        "data = {\n",
        "    'preguntas': [\n",
        "        \"¿Cuáles son las carreras disponibles en el ISSD?\",\n",
        "        \"¿El ISSD ofrece programas a distancia?\",\n",
        "        \"¿Cuáles son los requisitos de inscripción?\",\n",
        "        \"¿Cuándo comienzan las inscripciones?\",\n",
        "        \"¿Cómo puedo inscribirme en una carrera?\",\n",
        "        \"¿El ISSD ofrece diplomaturas?\",\n",
        "        \"¿Cuál es la duración de las carreras?\",\n",
        "        \"¿Hay cursos cortos disponibles?\",\n",
        "        \"¿Cuáles son las modalidades de pago?\",\n",
        "        \"¿Qué servicios ofrece el ISSD a los estudiantes?\",\n",
        "        \"¿El ISSD tiene convenios con empresas?\",\n",
        "        \"¿Hay programas de becas disponibles?\",\n",
        "        \"¿Cómo es la modalidad de cursada online?\",\n",
        "        \"¿Dónde se encuentra la sede del ISSD?\",\n",
        "        \"¿Se puede transferir desde otra universidad?\",\n",
        "        \"¿Cuántos turnos de cursada hay?\",\n",
        "        \"¿Cuáles son los beneficios de estudiar en el ISSD?\",\n",
        "        \"¿Hay eventos o conferencias para estudiantes?\",\n",
        "        \"¿Cómo se evalúa a los estudiantes?\",\n",
        "        \"¿Se requiere experiencia previa para ingresar a las carreras de tecnología?\",\n",
        "        \"¿El ISSD tiene programas de pasantías?\",\n",
        "        \"¿Las carreras están acreditadas?\",\n",
        "        \"¿Qué plataforma utilizan para las clases online?\",\n",
        "        \"¿Cuál es el perfil del cuerpo docente?\",\n",
        "        \"¿Cómo contacto al ISSD para más información?\"\n",
        "    ],\n",
        "    'respuestas': [\n",
        "        \"El ISSD ofrece carreras como Tecnicatura Superior en Administración de Empresas, en Desarrollo de Software, en Inteligencia Artificial, en Telecomunicaciones, y más.\",\n",
        "        \"Sí, el ISSD ofrece programas tanto presenciales como online.\",\n",
        "        \"Los requisitos incluyen presentar DNI, certificado de estudios previos, y completar el formulario de inscripción.\",\n",
        "        \"Las inscripciones están abiertas todo el año, pero los cupos son limitados.\",\n",
        "        \"Puedes inscribirte completando el formulario de inscripción en el sitio web del ISSD o en la sede.\",\n",
        "        \"Sí, ofrecen diplomaturas en áreas como Inteligencia Artificial y Desarrollo de Software.\",\n",
        "        \"Las carreras tienen una duración aproximada de 3 años.\",\n",
        "        \"Sí, el ISSD ofrece cursos cortos en diversas áreas de tecnología y gestión.\",\n",
        "        \"Se aceptan pagos en efectivo, tarjeta de crédito, débito y transferencias bancarias.\",\n",
        "        \"Ofrecen biblioteca, acceso a laboratorios, asesoramiento académico y más.\",\n",
        "        \"Sí, el ISSD tiene convenios con varias empresas para prácticas profesionales.\",\n",
        "        \"Sí, el ISSD ofrece becas para estudiantes con buen rendimiento académico.\",\n",
        "        \"Las clases online son en vivo y grabadas, con acceso a materiales y foros de consulta.\",\n",
        "        \"La sede principal está en Córdoba, Argentina.\",\n",
        "        \"Sí, se permite la transferencia de estudiantes desde otras instituciones, sujeto a la evaluación de equivalencias.\",\n",
        "        \"Hay turnos mañana, tarde y noche para adaptarse a las necesidades de los estudiantes, además de la modalidad online.\",\n",
        "        \"Ofrecen flexibilidad horaria, programas actualizados, y acceso a tecnologías avanzadas.\",\n",
        "        \"Sí, el ISSD organiza regularmente eventos, charlas y talleres.\",\n",
        "        \"Las evaluaciones incluyen exámenes, trabajos prácticos y proyectos.\",\n",
        "        \"No, no se requiere experiencia previa, solo los estudios secundarios completos.\",\n",
        "        \"Sí, el ISSD ofrece pasantías a través de convenios con empresas del sector.\",\n",
        "        \"Sí, todas las carreras del ISSD están acreditadas y reconocidas oficialmente.\",\n",
        "        \"Utilizan una plataforma propia con acceso a materiales, clases en vivo y grabadas.\",\n",
        "        \"Los docentes son profesionales activos en sus campos, con amplia experiencia académica y laboral.\",\n",
        "        \"Puedes contactarlos por correo electrónico, teléfono, o completando el formulario de contacto en su página web.\"\n",
        "    ]\n",
        "}"
      ],
      "metadata": {
        "id": "5VI-eL5Ylcpj"
      },
      "execution_count": null,
      "outputs": []
    },
    {
      "cell_type": "code",
      "source": [
        "# Crear DataFrame\n",
        "df = pd.DataFrame(data)\n",
        "\n",
        "# Inicializar el vectorizador TF-IDF\n",
        "vectorizer = TfidfVectorizer()\n",
        "\n",
        "# Ajustar y transformar las preguntas\n",
        "tfidf_matrix = vectorizer.fit_transform(df['preguntas'])"
      ],
      "metadata": {
        "id": "Gi4ABZdBmiaf"
      },
      "execution_count": null,
      "outputs": []
    },
    {
      "cell_type": "code",
      "source": [
        "def chatbot_response(user_input):\n",
        "    # Transformar la entrada del usuario\n",
        "    user_tfidf = vectorizer.transform([user_input])\n",
        "\n",
        "    # Calcular la similitud del coseno\n",
        "    cosine_similarities = cosine_similarity(user_tfidf, tfidf_matrix).flatten()\n",
        "\n",
        "    # Encontrar el índice de la pregunta más similar\n",
        "    index = np.argmax(cosine_similarities)\n",
        "\n",
        "    # Verificar si la similitud es mayor a 0.1\n",
        "    if cosine_similarities[index] < 0.1:\n",
        "        return \"Lo siento, no tengo información sobre eso.\"\n",
        "\n",
        "    return df['respuestas'][index]\n",
        "\n",
        "# Ejemplo de uso\n",
        "if __name__ == \"__main__\":\n",
        "    while True:\n",
        "        pregunta_usuario = input(\"Escribe tu pregunta (o 'salir' para terminar): \")\n",
        "        if pregunta_usuario.lower() == 'salir':\n",
        "            break\n",
        "        respuesta = chatbot_response(pregunta_usuario)\n",
        "        print(f\"Respuesta: {respuesta}\")"
      ],
      "metadata": {
        "colab": {
          "base_uri": "https://localhost:8080/"
        },
        "id": "qbeTFUThmk0w",
        "outputId": "a27f7d1b-c437-414b-c6e6-9261ded7401f"
      },
      "execution_count": null,
      "outputs": [
        {
          "metadata": {
            "tags": null
          },
          "name": "stdout",
          "output_type": "stream",
          "text": [
            "Respuesta: Se aceptan pagos en efectivo, tarjeta de crédito, débito y transferencias bancarias.\n",
            "Respuesta: Lo siento, no tengo información sobre eso.\n",
            "Respuesta: Las carreras tienen una duración aproximada de 3 años.\n",
            "Respuesta: Ofrecen flexibilidad horaria, programas actualizados, y acceso a tecnologías avanzadas.\n",
            "Respuesta: No, no se requiere experiencia previa, solo los estudios secundarios completos.\n",
            "Respuesta: Lo siento, no tengo información sobre eso.\n",
            "Respuesta: La sede principal está en Córdoba, Argentina.\n"
          ]
        }
      ]
    },
    {
      "cell_type": "markdown",
      "source": [
        "## Enfoque y Aproximación\n",
        "El enfoque adoptado para crear un chatbot de atención a futuros estudiantes del ISSD se basa en la técnica de TF-IDF (Term Frequency-Inverse Document Frequency) combinada con la similitud del coseno. Esta metodología permite identificar la pregunta más similar en un conjunto de preguntas predefinidas, ofreciendo respuestas relevantes a las consultas de los usuarios.\n",
        "\n",
        "1. TF-IDF: Este algoritmo transforma las preguntas en vectores numéricos, considerando la frecuencia de palabras y su importancia en el contexto del conjunto de datos. Esto ayuda a identificar términos clave en las preguntas del usuario.\n",
        "\n",
        "2. Similitud del Coseno: Se utiliza para medir la similitud entre el vector de entrada del usuario y los vectores de las preguntas en el dataset. Esto permite encontrar la pregunta más cercana a la consulta del usuario.\n",
        "\n",
        "## Experiencia\n",
        "A través de este proyecto, he experimentado varios aspectos importantes:\n",
        "\n",
        "* Estructura de Datos: La creación de un dataset con preguntas y respuestas bien definidas es crucial para que el chatbot funcione correctamente. Las preguntas deben ser claras y las respuestas relevantes.\n",
        "\n",
        "* Ajuste de Umbrales: La implementación de un umbral de similitud ayuda a evitar respuestas incorrectas, mejorando así la experiencia del usuario.\n",
        "\n",
        "* Iteración y Mejora Continua: El proceso de prueba y ajuste es vital para optimizar la precisión del chatbot. Se pueden realizar ajustes en las preguntas y respuestas basadas en el feedback del usuario.\n",
        "\n",
        "Este enfoque permite desarrollar un chatbot funcional y efectivo para brindar atención al cliente, facilitando la interacción entre el ISSD y futuros estudiantes."
      ],
      "metadata": {
        "id": "Ri2zLe1TpiV-"
      }
    },
    {
      "cell_type": "markdown",
      "source": [
        "## Chatbot utilizando embeddings"
      ],
      "metadata": {
        "id": "7SrCW5Q1qekT"
      }
    },
    {
      "cell_type": "code",
      "source": [
        "#Primero importo las librerías necesarias\n",
        "import spacy\n",
        "import pandas as pd\n",
        "import numpy as np\n",
        "from sklearn.metrics.pairwise import cosine_similarity"
      ],
      "metadata": {
        "id": "AucPOELap7Yr"
      },
      "execution_count": null,
      "outputs": []
    },
    {
      "cell_type": "code",
      "source": [
        "!python -m spacy download es_core_news_md"
      ],
      "metadata": {
        "colab": {
          "base_uri": "https://localhost:8080/"
        },
        "id": "Q1luM8l0q_lD",
        "outputId": "1a8f2cf2-875a-4977-9fc8-a000ed44cde7"
      },
      "execution_count": null,
      "outputs": [
        {
          "output_type": "stream",
          "name": "stdout",
          "text": [
            "Collecting es-core-news-md==3.7.0\n",
            "  Downloading https://github.com/explosion/spacy-models/releases/download/es_core_news_md-3.7.0/es_core_news_md-3.7.0-py3-none-any.whl (42.3 MB)\n",
            "\u001b[2K     \u001b[90m━━━━━━━━━━━━━━━━━━━━━━━━━━━━━━━━━━━━━━━━\u001b[0m \u001b[32m42.3/42.3 MB\u001b[0m \u001b[31m16.4 MB/s\u001b[0m eta \u001b[36m0:00:00\u001b[0m\n",
            "\u001b[?25hRequirement already satisfied: spacy<3.8.0,>=3.7.0 in /usr/local/lib/python3.10/dist-packages (from es-core-news-md==3.7.0) (3.7.6)\n",
            "Requirement already satisfied: spacy-legacy<3.1.0,>=3.0.11 in /usr/local/lib/python3.10/dist-packages (from spacy<3.8.0,>=3.7.0->es-core-news-md==3.7.0) (3.0.12)\n",
            "Requirement already satisfied: spacy-loggers<2.0.0,>=1.0.0 in /usr/local/lib/python3.10/dist-packages (from spacy<3.8.0,>=3.7.0->es-core-news-md==3.7.0) (1.0.5)\n",
            "Requirement already satisfied: murmurhash<1.1.0,>=0.28.0 in /usr/local/lib/python3.10/dist-packages (from spacy<3.8.0,>=3.7.0->es-core-news-md==3.7.0) (1.0.10)\n",
            "Requirement already satisfied: cymem<2.1.0,>=2.0.2 in /usr/local/lib/python3.10/dist-packages (from spacy<3.8.0,>=3.7.0->es-core-news-md==3.7.0) (2.0.8)\n",
            "Requirement already satisfied: preshed<3.1.0,>=3.0.2 in /usr/local/lib/python3.10/dist-packages (from spacy<3.8.0,>=3.7.0->es-core-news-md==3.7.0) (3.0.9)\n",
            "Requirement already satisfied: thinc<8.3.0,>=8.2.2 in /usr/local/lib/python3.10/dist-packages (from spacy<3.8.0,>=3.7.0->es-core-news-md==3.7.0) (8.2.5)\n",
            "Requirement already satisfied: wasabi<1.2.0,>=0.9.1 in /usr/local/lib/python3.10/dist-packages (from spacy<3.8.0,>=3.7.0->es-core-news-md==3.7.0) (1.1.3)\n",
            "Requirement already satisfied: srsly<3.0.0,>=2.4.3 in /usr/local/lib/python3.10/dist-packages (from spacy<3.8.0,>=3.7.0->es-core-news-md==3.7.0) (2.4.8)\n",
            "Requirement already satisfied: catalogue<2.1.0,>=2.0.6 in /usr/local/lib/python3.10/dist-packages (from spacy<3.8.0,>=3.7.0->es-core-news-md==3.7.0) (2.0.10)\n",
            "Requirement already satisfied: weasel<0.5.0,>=0.1.0 in /usr/local/lib/python3.10/dist-packages (from spacy<3.8.0,>=3.7.0->es-core-news-md==3.7.0) (0.4.1)\n",
            "Requirement already satisfied: typer<1.0.0,>=0.3.0 in /usr/local/lib/python3.10/dist-packages (from spacy<3.8.0,>=3.7.0->es-core-news-md==3.7.0) (0.12.5)\n",
            "Requirement already satisfied: tqdm<5.0.0,>=4.38.0 in /usr/local/lib/python3.10/dist-packages (from spacy<3.8.0,>=3.7.0->es-core-news-md==3.7.0) (4.66.5)\n",
            "Requirement already satisfied: requests<3.0.0,>=2.13.0 in /usr/local/lib/python3.10/dist-packages (from spacy<3.8.0,>=3.7.0->es-core-news-md==3.7.0) (2.32.3)\n",
            "Requirement already satisfied: pydantic!=1.8,!=1.8.1,<3.0.0,>=1.7.4 in /usr/local/lib/python3.10/dist-packages (from spacy<3.8.0,>=3.7.0->es-core-news-md==3.7.0) (2.9.2)\n",
            "Requirement already satisfied: jinja2 in /usr/local/lib/python3.10/dist-packages (from spacy<3.8.0,>=3.7.0->es-core-news-md==3.7.0) (3.1.4)\n",
            "Requirement already satisfied: setuptools in /usr/local/lib/python3.10/dist-packages (from spacy<3.8.0,>=3.7.0->es-core-news-md==3.7.0) (71.0.4)\n",
            "Requirement already satisfied: packaging>=20.0 in /usr/local/lib/python3.10/dist-packages (from spacy<3.8.0,>=3.7.0->es-core-news-md==3.7.0) (24.1)\n",
            "Requirement already satisfied: langcodes<4.0.0,>=3.2.0 in /usr/local/lib/python3.10/dist-packages (from spacy<3.8.0,>=3.7.0->es-core-news-md==3.7.0) (3.4.0)\n",
            "Requirement already satisfied: numpy>=1.19.0 in /usr/local/lib/python3.10/dist-packages (from spacy<3.8.0,>=3.7.0->es-core-news-md==3.7.0) (1.26.4)\n",
            "Requirement already satisfied: language-data>=1.2 in /usr/local/lib/python3.10/dist-packages (from langcodes<4.0.0,>=3.2.0->spacy<3.8.0,>=3.7.0->es-core-news-md==3.7.0) (1.2.0)\n",
            "Requirement already satisfied: annotated-types>=0.6.0 in /usr/local/lib/python3.10/dist-packages (from pydantic!=1.8,!=1.8.1,<3.0.0,>=1.7.4->spacy<3.8.0,>=3.7.0->es-core-news-md==3.7.0) (0.7.0)\n",
            "Requirement already satisfied: pydantic-core==2.23.4 in /usr/local/lib/python3.10/dist-packages (from pydantic!=1.8,!=1.8.1,<3.0.0,>=1.7.4->spacy<3.8.0,>=3.7.0->es-core-news-md==3.7.0) (2.23.4)\n",
            "Requirement already satisfied: typing-extensions>=4.6.1 in /usr/local/lib/python3.10/dist-packages (from pydantic!=1.8,!=1.8.1,<3.0.0,>=1.7.4->spacy<3.8.0,>=3.7.0->es-core-news-md==3.7.0) (4.12.2)\n",
            "Requirement already satisfied: charset-normalizer<4,>=2 in /usr/local/lib/python3.10/dist-packages (from requests<3.0.0,>=2.13.0->spacy<3.8.0,>=3.7.0->es-core-news-md==3.7.0) (3.3.2)\n",
            "Requirement already satisfied: idna<4,>=2.5 in /usr/local/lib/python3.10/dist-packages (from requests<3.0.0,>=2.13.0->spacy<3.8.0,>=3.7.0->es-core-news-md==3.7.0) (3.10)\n",
            "Requirement already satisfied: urllib3<3,>=1.21.1 in /usr/local/lib/python3.10/dist-packages (from requests<3.0.0,>=2.13.0->spacy<3.8.0,>=3.7.0->es-core-news-md==3.7.0) (2.2.3)\n",
            "Requirement already satisfied: certifi>=2017.4.17 in /usr/local/lib/python3.10/dist-packages (from requests<3.0.0,>=2.13.0->spacy<3.8.0,>=3.7.0->es-core-news-md==3.7.0) (2024.8.30)\n",
            "Requirement already satisfied: blis<0.8.0,>=0.7.8 in /usr/local/lib/python3.10/dist-packages (from thinc<8.3.0,>=8.2.2->spacy<3.8.0,>=3.7.0->es-core-news-md==3.7.0) (0.7.11)\n",
            "Requirement already satisfied: confection<1.0.0,>=0.0.1 in /usr/local/lib/python3.10/dist-packages (from thinc<8.3.0,>=8.2.2->spacy<3.8.0,>=3.7.0->es-core-news-md==3.7.0) (0.1.5)\n",
            "Requirement already satisfied: click>=8.0.0 in /usr/local/lib/python3.10/dist-packages (from typer<1.0.0,>=0.3.0->spacy<3.8.0,>=3.7.0->es-core-news-md==3.7.0) (8.1.7)\n",
            "Requirement already satisfied: shellingham>=1.3.0 in /usr/local/lib/python3.10/dist-packages (from typer<1.0.0,>=0.3.0->spacy<3.8.0,>=3.7.0->es-core-news-md==3.7.0) (1.5.4)\n",
            "Requirement already satisfied: rich>=10.11.0 in /usr/local/lib/python3.10/dist-packages (from typer<1.0.0,>=0.3.0->spacy<3.8.0,>=3.7.0->es-core-news-md==3.7.0) (13.8.1)\n",
            "Requirement already satisfied: cloudpathlib<1.0.0,>=0.7.0 in /usr/local/lib/python3.10/dist-packages (from weasel<0.5.0,>=0.1.0->spacy<3.8.0,>=3.7.0->es-core-news-md==3.7.0) (0.19.0)\n",
            "Requirement already satisfied: smart-open<8.0.0,>=5.2.1 in /usr/local/lib/python3.10/dist-packages (from weasel<0.5.0,>=0.1.0->spacy<3.8.0,>=3.7.0->es-core-news-md==3.7.0) (7.0.4)\n",
            "Requirement already satisfied: MarkupSafe>=2.0 in /usr/local/lib/python3.10/dist-packages (from jinja2->spacy<3.8.0,>=3.7.0->es-core-news-md==3.7.0) (2.1.5)\n",
            "Requirement already satisfied: marisa-trie>=0.7.7 in /usr/local/lib/python3.10/dist-packages (from language-data>=1.2->langcodes<4.0.0,>=3.2.0->spacy<3.8.0,>=3.7.0->es-core-news-md==3.7.0) (1.2.0)\n",
            "Requirement already satisfied: markdown-it-py>=2.2.0 in /usr/local/lib/python3.10/dist-packages (from rich>=10.11.0->typer<1.0.0,>=0.3.0->spacy<3.8.0,>=3.7.0->es-core-news-md==3.7.0) (3.0.0)\n",
            "Requirement already satisfied: pygments<3.0.0,>=2.13.0 in /usr/local/lib/python3.10/dist-packages (from rich>=10.11.0->typer<1.0.0,>=0.3.0->spacy<3.8.0,>=3.7.0->es-core-news-md==3.7.0) (2.18.0)\n",
            "Requirement already satisfied: wrapt in /usr/local/lib/python3.10/dist-packages (from smart-open<8.0.0,>=5.2.1->weasel<0.5.0,>=0.1.0->spacy<3.8.0,>=3.7.0->es-core-news-md==3.7.0) (1.16.0)\n",
            "Requirement already satisfied: mdurl~=0.1 in /usr/local/lib/python3.10/dist-packages (from markdown-it-py>=2.2.0->rich>=10.11.0->typer<1.0.0,>=0.3.0->spacy<3.8.0,>=3.7.0->es-core-news-md==3.7.0) (0.1.2)\n",
            "Installing collected packages: es-core-news-md\n",
            "Successfully installed es-core-news-md-3.7.0\n",
            "\u001b[38;5;2m✔ Download and installation successful\u001b[0m\n",
            "You can now load the package via spacy.load('es_core_news_md')\n",
            "\u001b[38;5;3m⚠ Restart to reload dependencies\u001b[0m\n",
            "If you are in a Jupyter or Colab notebook, you may need to restart Python in\n",
            "order to load all the package's dependencies. You can do this by selecting the\n",
            "'Restart kernel' or 'Restart runtime' option.\n"
          ]
        }
      ]
    },
    {
      "cell_type": "code",
      "source": [
        "# Cargo el modelo de SpaCy en español\n",
        "nlp = spacy.load('es_core_news_md')"
      ],
      "metadata": {
        "id": "dLys7hBuq0oh"
      },
      "execution_count": null,
      "outputs": []
    },
    {
      "cell_type": "code",
      "source": [
        "# Proceso las preguntas con SpaCy\n",
        "question_docs = [nlp(pregunta) for pregunta in df['preguntas']]"
      ],
      "metadata": {
        "id": "KxMzH6zlrQ5l"
      },
      "execution_count": null,
      "outputs": []
    },
    {
      "cell_type": "code",
      "source": [
        "# Función para encontrar la respuesta más cercana\n",
        "def encontrar_respuesta(pregunta_usuario):\n",
        "    pregunta_vector = nlp(pregunta_usuario).vector\n",
        "    similaridades = []\n",
        "\n",
        "    for index, row in df.iterrows():\n",
        "        respuesta_vector = nlp(row['preguntas']).vector\n",
        "        similaridad = cosine_similarity([pregunta_vector], [respuesta_vector])[0][0]\n",
        "        similaridades.append(similaridad)\n",
        "\n",
        "    mejor_indice = np.argmax(similaridades)\n",
        "    return df.iloc[mejor_indice]['respuestas']\n",
        "\n",
        "# Ejemplo de uso\n",
        "if __name__ == \"__main__\":\n",
        "    while True:\n",
        "        pregunta_usuario = input(\"Escribe tu pregunta (o 'salir' para terminar): \")\n",
        "        if pregunta_usuario.lower() == 'salir':\n",
        "            break\n",
        "        respuesta = encontrar_respuesta(pregunta_usuario)\n",
        "        print(f\"Respuesta: {respuesta}\")"
      ],
      "metadata": {
        "colab": {
          "base_uri": "https://localhost:8080/"
        },
        "id": "v5edtsFkrWzT",
        "outputId": "5636735b-8892-4189-d906-6c75a21fd32b"
      },
      "execution_count": null,
      "outputs": [
        {
          "name": "stdout",
          "output_type": "stream",
          "text": [
            "Escribe tu pregunta (o 'salir' para terminar): como pago?\n",
            "Respuesta: Se aceptan pagos en efectivo, tarjeta de crédito, débito y transferencias bancarias.\n",
            "Escribe tu pregunta (o 'salir' para terminar): como me inscribo?\n",
            "Respuesta: Puedes inscribirte completando el formulario de inscripción en el sitio web del ISSD o en la sede.\n",
            "Escribe tu pregunta (o 'salir' para terminar): donde están?\n",
            "Respuesta: Sí, todas las carreras del ISSD están acreditadas y reconocidas oficialmente.\n",
            "Escribe tu pregunta (o 'salir' para terminar): donde está ubicados?\n",
            "Respuesta: Hay turnos mañana, tarde y noche para adaptarse a las necesidades de los estudiantes, además de la modalidad online.\n",
            "Escribe tu pregunta (o 'salir' para terminar): cuales carreras tienen?\n",
            "Respuesta: Los requisitos incluyen presentar DNI, certificado de estudios previos, y completar el formulario de inscripción.\n",
            "Escribe tu pregunta (o 'salir' para terminar): como pago?\n",
            "Respuesta: Se aceptan pagos en efectivo, tarjeta de crédito, débito y transferencias bancarias.\n",
            "Escribe tu pregunta (o 'salir' para terminar): salir\n"
          ]
        }
      ]
    },
    {
      "cell_type": "markdown",
      "source": [
        "## Enfoque y Aproximación\n",
        "El enfoque adoptado para crear un chatbot de atención a futuros estudiantes se basa en el uso de SpaCy y embeddings para la comprensión semántica. Esta metodología permite al chatbot interpretar las consultas de los usuarios y proporcionar respuestas relevantes.\n",
        "\n",
        "* SpaCy: Se utiliza para el preprocesamiento del texto, eliminando stopwords y lematizando palabras. Esto ayuda a normalizar las preguntas y respuestas en el dataset.\n",
        "\n",
        "* Embeddings: Se generan representaciones vectoriales de las preguntas, permitiendo que el chatbot capture relaciones semánticas entre diferentes formulaciones de preguntas.\n",
        "\n",
        "* Similitud del Coseno: Se utiliza para medir la similitud entre la entrada del usuario y las preguntas en el dataset, facilitando la identificación de la pregunta más cercana.\n",
        "\n",
        "## Experiencia\n",
        "A través de este proyecto, he experimentado varios aspectos importantes:\n",
        "\n",
        "* Estructura de Datos: La creación de un dataset con preguntas y respuestas bien definidas es crucial para el funcionamiento del chatbot. Las preguntas deben ser claras y las respuestas pertinentes.\n",
        "\n",
        "* Ajuste de Umbrales: Implementar un umbral de similitud evita respuestas irrelevantes, mejorando así la experiencia del usuario.\n",
        "\n",
        "* Iteración y Mejora Continua: La prueba y ajuste son vitales para optimizar la precisión del chatbot, permitiendo mejoras basadas en el feedback del usuario.\n",
        "\n",
        "Este enfoque permite desarrollar un chatbot funcional y efectivo, facilitando la interacción entre la institución y los futuros estudiantes."
      ],
      "metadata": {
        "id": "eU-uYIKNwUS1"
      }
    }
  ]
}