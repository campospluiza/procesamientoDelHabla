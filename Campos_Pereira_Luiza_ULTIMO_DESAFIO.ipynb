{
  "nbformat": 4,
  "nbformat_minor": 0,
  "metadata": {
    "colab": {
      "provenance": [],
      "authorship_tag": "ABX9TyPFNzyDV3brIXHfgO7qT7hh",
      "include_colab_link": true
    },
    "kernelspec": {
      "name": "python3",
      "display_name": "Python 3"
    },
    "language_info": {
      "name": "python"
    }
  },
  "cells": [
    {
      "cell_type": "markdown",
      "metadata": {
        "id": "view-in-github",
        "colab_type": "text"
      },
      "source": [
        "<a href=\"https://colab.research.google.com/github/campospluiza/procesamientoDelHabla/blob/main/Campos_Pereira_Luiza_ULTIMO_DESAFIO.ipynb\" target=\"_parent\"><img src=\"https://colab.research.google.com/assets/colab-badge.svg\" alt=\"Open In Colab\"/></a>"
      ]
    },
    {
      "cell_type": "markdown",
      "source": [
        "# ULTIMO DESAFIO\n",
        "\n",
        "**ALUMNA:** Luiza Campos Pereira\n",
        "\n",
        "**TEMA:** DETECCIÓN DE ANOMALÍAS"
      ],
      "metadata": {
        "id": "7JaKd2s9TenB"
      }
    },
    {
      "cell_type": "code",
      "execution_count": null,
      "metadata": {
        "id": "ZKMVZJ_eS4Jz"
      },
      "outputs": [],
      "source": []
    }
  ]
}